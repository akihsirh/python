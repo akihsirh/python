{
 "cells": [
  {
   "cell_type": "code",
   "execution_count": 2,
   "id": "d1690315",
   "metadata": {},
   "outputs": [
    {
     "name": "stdout",
     "output_type": "stream",
     "text": [
      "Writing myfile.txt\n"
     ]
    }
   ],
   "source": [
    "%%writefile myfile.txt\n",
    "Hello this is a sample file. \n",
    "Just adding more lines for the sake of volume. \n",
    "It is pointless but it is what it is. "
   ]
  },
  {
   "cell_type": "code",
   "execution_count": 10,
   "id": "a1ce77a3",
   "metadata": {},
   "outputs": [],
   "source": [
    "myfile = open('myfile.txt')"
   ]
  },
  {
   "cell_type": "code",
   "execution_count": 6,
   "id": "2970643e",
   "metadata": {},
   "outputs": [
    {
     "data": {
      "text/plain": [
       "'/Users/hrshetty/Desktop/practice/python/oop'"
      ]
     },
     "execution_count": 6,
     "metadata": {},
     "output_type": "execute_result"
    }
   ],
   "source": [
    "pwd"
   ]
  },
  {
   "cell_type": "code",
   "execution_count": 11,
   "id": "4a4c6bef",
   "metadata": {},
   "outputs": [
    {
     "data": {
      "text/plain": [
       "'Hello this is a sample file. \\nJust adding more lines for the sake of volume. \\nIt is pointless but it is what it is. \\n'"
      ]
     },
     "execution_count": 11,
     "metadata": {},
     "output_type": "execute_result"
    }
   ],
   "source": [
    "myfile.read()"
   ]
  },
  {
   "cell_type": "code",
   "execution_count": 12,
   "id": "94782d48",
   "metadata": {},
   "outputs": [
    {
     "data": {
      "text/plain": [
       "''"
      ]
     },
     "execution_count": 12,
     "metadata": {},
     "output_type": "execute_result"
    }
   ],
   "source": [
    "myfile.read()"
   ]
  },
  {
   "cell_type": "code",
   "execution_count": 13,
   "id": "98f04e96",
   "metadata": {},
   "outputs": [
    {
     "data": {
      "text/plain": [
       "0"
      ]
     },
     "execution_count": 13,
     "metadata": {},
     "output_type": "execute_result"
    }
   ],
   "source": [
    "myfile.seek(0)"
   ]
  },
  {
   "cell_type": "code",
   "execution_count": 14,
   "id": "d79427cc",
   "metadata": {},
   "outputs": [
    {
     "data": {
      "text/plain": [
       "'Hello this is a sample file. \\nJust adding more lines for the sake of volume. \\nIt is pointless but it is what it is. \\n'"
      ]
     },
     "execution_count": 14,
     "metadata": {},
     "output_type": "execute_result"
    }
   ],
   "source": [
    "myfile.read()"
   ]
  },
  {
   "cell_type": "code",
   "execution_count": 15,
   "id": "d2035c1f",
   "metadata": {},
   "outputs": [
    {
     "data": {
      "text/plain": [
       "['Hello this is a sample file. \\n',\n",
       " 'Just adding more lines for the sake of volume. \\n',\n",
       " 'It is pointless but it is what it is. \\n']"
      ]
     },
     "execution_count": 15,
     "metadata": {},
     "output_type": "execute_result"
    }
   ],
   "source": [
    "myfile.seek(0)\n",
    "myfile.readlines()"
   ]
  },
  {
   "cell_type": "code",
   "execution_count": 16,
   "id": "82bc98f6",
   "metadata": {},
   "outputs": [
    {
     "ename": "TypeError",
     "evalue": "'bool' object is not callable",
     "output_type": "error",
     "traceback": [
      "\u001b[0;31m---------------------------------------------------------------------------\u001b[0m",
      "\u001b[0;31mTypeError\u001b[0m                                 Traceback (most recent call last)",
      "\u001b[0;32m/var/folders/4x/v_dp_4pd3cz8624040pntyl4lqd9ps/T/ipykernel_73244/935918078.py\u001b[0m in \u001b[0;36m<module>\u001b[0;34m\u001b[0m\n\u001b[0;32m----> 1\u001b[0;31m \u001b[0mmyfile\u001b[0m\u001b[0;34m.\u001b[0m\u001b[0mclosed\u001b[0m\u001b[0;34m(\u001b[0m\u001b[0;34m)\u001b[0m\u001b[0;34m\u001b[0m\u001b[0;34m\u001b[0m\u001b[0m\n\u001b[0m",
      "\u001b[0;31mTypeError\u001b[0m: 'bool' object is not callable"
     ]
    }
   ],
   "source": [
    "myfile.closed()"
   ]
  },
  {
   "cell_type": "code",
   "execution_count": 17,
   "id": "4c05ae6e",
   "metadata": {},
   "outputs": [],
   "source": [
    "myfile.close()"
   ]
  },
  {
   "cell_type": "code",
   "execution_count": 19,
   "id": "9fe9ee60",
   "metadata": {},
   "outputs": [],
   "source": [
    "# open and read contents while also ensuring you dont have to manually close a file\n",
    "with open('myfile.txt') as my_file:\n",
    "    contents = my_file.readlines()"
   ]
  },
  {
   "cell_type": "code",
   "execution_count": 20,
   "id": "3c6ba078",
   "metadata": {},
   "outputs": [
    {
     "data": {
      "text/plain": [
       "['Hello this is a sample file. \\n',\n",
       " 'Just adding more lines for the sake of volume. \\n',\n",
       " 'It is pointless but it is what it is. \\n']"
      ]
     },
     "execution_count": 20,
     "metadata": {},
     "output_type": "execute_result"
    }
   ],
   "source": [
    "contents"
   ]
  },
  {
   "cell_type": "code",
   "execution_count": 21,
   "id": "1a7c6254",
   "metadata": {},
   "outputs": [],
   "source": [
    "# open and read contents while also ensuring you dont have to manually close a file\n",
    "with open('myfile.txt', mode='r') as my_file:\n",
    "    contents = my_file.readlines()"
   ]
  },
  {
   "cell_type": "code",
   "execution_count": 22,
   "id": "68c3d872",
   "metadata": {},
   "outputs": [
    {
     "data": {
      "text/plain": [
       "['Hello this is a sample file. \\n',\n",
       " 'Just adding more lines for the sake of volume. \\n',\n",
       " 'It is pointless but it is what it is. \\n']"
      ]
     },
     "execution_count": 22,
     "metadata": {},
     "output_type": "execute_result"
    }
   ],
   "source": [
    "contents"
   ]
  },
  {
   "cell_type": "code",
   "execution_count": 23,
   "id": "3c3c8b34",
   "metadata": {},
   "outputs": [],
   "source": [
    "# open and append contents while also ensuring you dont have to manually close a file\n",
    "with open('myfile.txt', mode='a') as my_file:\n",
    "    my_file.write('\\n Appended')"
   ]
  },
  {
   "cell_type": "code",
   "execution_count": 24,
   "id": "48b23f77",
   "metadata": {},
   "outputs": [],
   "source": [
    "with open('myfile.txt', mode='r') as my_file:\n",
    "    contents = my_file.readlines()"
   ]
  },
  {
   "cell_type": "code",
   "execution_count": 25,
   "id": "72882546",
   "metadata": {},
   "outputs": [
    {
     "data": {
      "text/plain": [
       "['Hello this is a sample file. \\n',\n",
       " 'Just adding more lines for the sake of volume. \\n',\n",
       " 'It is pointless but it is what it is. \\n',\n",
       " '\\n',\n",
       " ' Appended']"
      ]
     },
     "execution_count": 25,
     "metadata": {},
     "output_type": "execute_result"
    }
   ],
   "source": [
    "contents"
   ]
  },
  {
   "cell_type": "code",
   "execution_count": 26,
   "id": "921204ed",
   "metadata": {},
   "outputs": [],
   "source": [
    "with open('random.txt', mode='w') as r:\n",
    "    r.write('Created this')"
   ]
  },
  {
   "cell_type": "code",
   "execution_count": 27,
   "id": "c4f4a8e2",
   "metadata": {},
   "outputs": [
    {
     "name": "stdout",
     "output_type": "stream",
     "text": [
      "['Created this']\n"
     ]
    }
   ],
   "source": [
    "with open('random.txt', mode='r') as r:\n",
    "    print(r.readlines())"
   ]
  },
  {
   "cell_type": "code",
   "execution_count": null,
   "id": "ccc5c361",
   "metadata": {},
   "outputs": [],
   "source": []
  }
 ],
 "metadata": {
  "kernelspec": {
   "display_name": "Python 3 (ipykernel)",
   "language": "python",
   "name": "python3"
  },
  "language_info": {
   "codemirror_mode": {
    "name": "ipython",
    "version": 3
   },
   "file_extension": ".py",
   "mimetype": "text/x-python",
   "name": "python",
   "nbconvert_exporter": "python",
   "pygments_lexer": "ipython3",
   "version": "3.10.0"
  }
 },
 "nbformat": 4,
 "nbformat_minor": 5
}
