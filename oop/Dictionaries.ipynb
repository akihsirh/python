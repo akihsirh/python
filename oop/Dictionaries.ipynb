{
 "cells": [
  {
   "cell_type": "code",
   "execution_count": 3,
   "id": "d04bb29c",
   "metadata": {},
   "outputs": [
    {
     "data": {
      "text/plain": [
       "{'apple': 2.99, 'orange': 4, 'banana': 0.99}"
      ]
     },
     "execution_count": 3,
     "metadata": {},
     "output_type": "execute_result"
    }
   ],
   "source": [
    "my_dict = {'apple':2.99, 'orange': 4, 'banana': 0.99}\n",
    "my_dict"
   ]
  },
  {
   "cell_type": "code",
   "execution_count": 4,
   "id": "129691fe",
   "metadata": {},
   "outputs": [
    {
     "data": {
      "text/plain": [
       "0.99"
      ]
     },
     "execution_count": 4,
     "metadata": {},
     "output_type": "execute_result"
    }
   ],
   "source": [
    "my_dict['banana']"
   ]
  },
  {
   "cell_type": "code",
   "execution_count": 5,
   "id": "12834b2f",
   "metadata": {},
   "outputs": [],
   "source": [
    "mixed_dict = {'k1':18, 'k2':[0, 1, 2, 3], 'k3': {'apple':2.99, 'orange': 4}}"
   ]
  },
  {
   "cell_type": "code",
   "execution_count": 6,
   "id": "0610ac8a",
   "metadata": {},
   "outputs": [
    {
     "name": "stdout",
     "output_type": "stream",
     "text": [
      "18\n",
      "1\n",
      "4\n"
     ]
    }
   ],
   "source": [
    "print(mixed_dict['k1'])\n",
    "print(mixed_dict['k2'][1])\n",
    "print(mixed_dict['k3']['orange'])"
   ]
  },
  {
   "cell_type": "code",
   "execution_count": 8,
   "id": "6f9de5bd",
   "metadata": {},
   "outputs": [
    {
     "name": "stdout",
     "output_type": "stream",
     "text": [
      "dict_keys(['k1', 'k2', 'k3'])\n"
     ]
    }
   ],
   "source": [
    "print(mixed_dict.keys())"
   ]
  },
  {
   "cell_type": "code",
   "execution_count": 9,
   "id": "23b3fdb2",
   "metadata": {},
   "outputs": [
    {
     "data": {
      "text/plain": [
       "dict_values([18, [0, 1, 2, 3], {'apple': 2.99, 'orange': 4}])"
      ]
     },
     "execution_count": 9,
     "metadata": {},
     "output_type": "execute_result"
    }
   ],
   "source": [
    "mixed_dict.values()"
   ]
  },
  {
   "cell_type": "code",
   "execution_count": 10,
   "id": "9c5d644f",
   "metadata": {},
   "outputs": [
    {
     "data": {
      "text/plain": [
       "dict_items([('k1', 18), ('k2', [0, 1, 2, 3]), ('k3', {'apple': 2.99, 'orange': 4})])"
      ]
     },
     "execution_count": 10,
     "metadata": {},
     "output_type": "execute_result"
    }
   ],
   "source": [
    "mixed_dict.items()"
   ]
  },
  {
   "cell_type": "code",
   "execution_count": 11,
   "id": "338e3e96",
   "metadata": {},
   "outputs": [],
   "source": [
    "mixed_dict['k1'] = 999"
   ]
  },
  {
   "cell_type": "code",
   "execution_count": 12,
   "id": "4ef28033",
   "metadata": {},
   "outputs": [
    {
     "data": {
      "text/plain": [
       "{'k1': 999, 'k2': [0, 1, 2, 3], 'k3': {'apple': 2.99, 'orange': 4}}"
      ]
     },
     "execution_count": 12,
     "metadata": {},
     "output_type": "execute_result"
    }
   ],
   "source": [
    "mixed_dict"
   ]
  },
  {
   "cell_type": "code",
   "execution_count": null,
   "id": "8f0127f0",
   "metadata": {},
   "outputs": [],
   "source": []
  }
 ],
 "metadata": {
  "kernelspec": {
   "display_name": "Python 3 (ipykernel)",
   "language": "python",
   "name": "python3"
  },
  "language_info": {
   "codemirror_mode": {
    "name": "ipython",
    "version": 3
   },
   "file_extension": ".py",
   "mimetype": "text/x-python",
   "name": "python",
   "nbconvert_exporter": "python",
   "pygments_lexer": "ipython3",
   "version": "3.10.0"
  }
 },
 "nbformat": 4,
 "nbformat_minor": 5
}
