{
 "cells": [
  {
   "cell_type": "code",
   "execution_count": 1,
   "id": "73de42d6",
   "metadata": {},
   "outputs": [
    {
     "name": "stdout",
     "output_type": "stream",
     "text": [
      "what's up ?\n"
     ]
    }
   ],
   "source": [
    "print(\"what's up ?\")"
   ]
  },
  {
   "cell_type": "code",
   "execution_count": 2,
   "id": "2ec065ef",
   "metadata": {},
   "outputs": [
    {
     "name": "stdout",
     "output_type": "stream",
     "text": [
      "hello \n",
      "humans\n"
     ]
    }
   ],
   "source": [
    "print(\"hello \\nhumans\")"
   ]
  },
  {
   "cell_type": "code",
   "execution_count": 3,
   "id": "51cafa46",
   "metadata": {},
   "outputs": [
    {
     "data": {
      "text/plain": [
       "29"
      ]
     },
     "execution_count": 3,
     "metadata": {},
     "output_type": "execute_result"
    }
   ],
   "source": [
    "len(\"dude she is just not into you\")"
   ]
  },
  {
   "cell_type": "code",
   "execution_count": 4,
   "id": "1c7005d9",
   "metadata": {},
   "outputs": [],
   "source": [
    "my_string = \"Dundundun boop\""
   ]
  },
  {
   "cell_type": "code",
   "execution_count": 8,
   "id": "c9f5d790",
   "metadata": {},
   "outputs": [
    {
     "name": "stdout",
     "output_type": "stream",
     "text": [
      "n\n",
      "D\n",
      "o\n"
     ]
    }
   ],
   "source": [
    "print(my_string[2])\n",
    "print(my_string[0])\n",
    "print(my_string[-2])"
   ]
  },
  {
   "cell_type": "code",
   "execution_count": 15,
   "id": "49bea7db",
   "metadata": {},
   "outputs": [
    {
     "name": "stdout",
     "output_type": "stream",
     "text": [
      "ndundun boop\n",
      "Dundu\n",
      "ndundun \n",
      "Dundundun boop\n",
      "udnu op\n"
     ]
    }
   ],
   "source": [
    "# from index to end \n",
    "print(my_string[2:])\n",
    "\n",
    "# go upto but not including index position from start\n",
    "print(my_string[:5])\n",
    "\n",
    "# grab some middle letters\n",
    "print(my_string[2:10])\n",
    "\n",
    "# go all the way from beginning to end\n",
    "print(my_string[::])\n",
    "\n",
    "# get even characters\n",
    "print(my_string[1::2])"
   ]
  },
  {
   "cell_type": "code",
   "execution_count": 16,
   "id": "baa3db11",
   "metadata": {},
   "outputs": [
    {
     "name": "stdout",
     "output_type": "stream",
     "text": [
      "poob nudnudnuD\n"
     ]
    }
   ],
   "source": [
    "# reverse a string\n",
    "print(my_string[::-1])"
   ]
  },
  {
   "cell_type": "markdown",
   "id": "431d984b",
   "metadata": {},
   "source": [
    "### Immutability"
   ]
  },
  {
   "cell_type": "code",
   "execution_count": 17,
   "id": "adab130e",
   "metadata": {},
   "outputs": [],
   "source": [
    "name = \"Hrishi\""
   ]
  },
  {
   "cell_type": "code",
   "execution_count": 18,
   "id": "b95bc4a3",
   "metadata": {},
   "outputs": [
    {
     "ename": "TypeError",
     "evalue": "'str' object does not support item assignment",
     "output_type": "error",
     "traceback": [
      "\u001b[0;31m---------------------------------------------------------------------------\u001b[0m",
      "\u001b[0;31mTypeError\u001b[0m                                 Traceback (most recent call last)",
      "\u001b[0;32m/var/folders/4x/v_dp_4pd3cz8624040pntyl4lqd9ps/T/ipykernel_41823/805205396.py\u001b[0m in \u001b[0;36m<module>\u001b[0;34m\u001b[0m\n\u001b[0;32m----> 1\u001b[0;31m \u001b[0mname\u001b[0m\u001b[0;34m[\u001b[0m\u001b[0;36m0\u001b[0m\u001b[0;34m]\u001b[0m \u001b[0;34m=\u001b[0m \u001b[0;34m\"K\"\u001b[0m\u001b[0;34m\u001b[0m\u001b[0;34m\u001b[0m\u001b[0m\n\u001b[0m",
      "\u001b[0;31mTypeError\u001b[0m: 'str' object does not support item assignment"
     ]
    }
   ],
   "source": [
    "name[0] = \"K\""
   ]
  },
  {
   "cell_type": "markdown",
   "id": "2da98e51",
   "metadata": {},
   "source": [
    "### Concatenation"
   ]
  },
  {
   "cell_type": "code",
   "execution_count": 19,
   "id": "3aa9bef7",
   "metadata": {},
   "outputs": [
    {
     "data": {
      "text/plain": [
       "'Krishi'"
      ]
     },
     "execution_count": 19,
     "metadata": {},
     "output_type": "execute_result"
    }
   ],
   "source": [
    "last_letters = name[1:]\n",
    "'K' + last_letters"
   ]
  },
  {
   "cell_type": "code",
   "execution_count": 20,
   "id": "3617d2dc",
   "metadata": {},
   "outputs": [],
   "source": [
    "name = 'K' + last_letters"
   ]
  },
  {
   "cell_type": "code",
   "execution_count": 21,
   "id": "3ecabb6c",
   "metadata": {},
   "outputs": [
    {
     "name": "stdout",
     "output_type": "stream",
     "text": [
      "Krishi\n"
     ]
    }
   ],
   "source": [
    "print(name)"
   ]
  },
  {
   "cell_type": "code",
   "execution_count": 23,
   "id": "4c5ff25c",
   "metadata": {},
   "outputs": [
    {
     "data": {
      "text/plain": [
       "'hhhhhhhhhhhhhhhhhhhh'"
      ]
     },
     "execution_count": 23,
     "metadata": {},
     "output_type": "execute_result"
    }
   ],
   "source": [
    "letter = 'h'\n",
    "letter * 20"
   ]
  },
  {
   "cell_type": "markdown",
   "id": "77d2930f",
   "metadata": {},
   "source": [
    "### Other methods"
   ]
  },
  {
   "cell_type": "code",
   "execution_count": 26,
   "id": "355ffb9f",
   "metadata": {},
   "outputs": [
    {
     "data": {
      "text/plain": [
       "'DUNDUNDUN BOOP'"
      ]
     },
     "execution_count": 26,
     "metadata": {},
     "output_type": "execute_result"
    }
   ],
   "source": [
    "# Doesnt affect original string\n",
    "my_string.upper()"
   ]
  },
  {
   "cell_type": "code",
   "execution_count": 27,
   "id": "68131789",
   "metadata": {},
   "outputs": [
    {
     "data": {
      "text/plain": [
       "'Dundundun boop'"
      ]
     },
     "execution_count": 27,
     "metadata": {},
     "output_type": "execute_result"
    }
   ],
   "source": [
    "my_string"
   ]
  },
  {
   "cell_type": "code",
   "execution_count": 28,
   "id": "e22a0f12",
   "metadata": {},
   "outputs": [
    {
     "data": {
      "text/plain": [
       "['Dundundun', 'boop']"
      ]
     },
     "execution_count": 28,
     "metadata": {},
     "output_type": "execute_result"
    }
   ],
   "source": [
    "# Doesnt affect original string\n",
    "my_string.split()"
   ]
  },
  {
   "cell_type": "code",
   "execution_count": 30,
   "id": "ad2c2ac1",
   "metadata": {},
   "outputs": [
    {
     "data": {
      "text/plain": [
       "['D', 'nd', 'nd', 'n boop']"
      ]
     },
     "execution_count": 30,
     "metadata": {},
     "output_type": "execute_result"
    }
   ],
   "source": [
    "# Doesnt affect original string\n",
    "my_string.split('u')"
   ]
  },
  {
   "cell_type": "markdown",
   "id": "fc6a32d8",
   "metadata": {},
   "source": [
    "### Formatting with .format() method"
   ]
  },
  {
   "cell_type": "code",
   "execution_count": 32,
   "id": "4e2a9fa8",
   "metadata": {},
   "outputs": [
    {
     "name": "stdout",
     "output_type": "stream",
     "text": [
      "Hello programmer\n"
     ]
    }
   ],
   "source": [
    "print(\"Hello {}\".format('programmer'))"
   ]
  },
  {
   "cell_type": "code",
   "execution_count": 33,
   "id": "ee25dd91",
   "metadata": {},
   "outputs": [
    {
     "name": "stdout",
     "output_type": "stream",
     "text": [
      "The cat played with the snake\n"
     ]
    }
   ],
   "source": [
    "print(\"The {} played with the {}\".format('cat', 'snake'))"
   ]
  },
  {
   "cell_type": "code",
   "execution_count": 34,
   "id": "875e6060",
   "metadata": {},
   "outputs": [
    {
     "name": "stdout",
     "output_type": "stream",
     "text": [
      "The snake played with the cat\n"
     ]
    }
   ],
   "source": [
    "print(\"The {1} played with the {0}\".format('cat', 'snake'))"
   ]
  },
  {
   "cell_type": "code",
   "execution_count": 35,
   "id": "11595a44",
   "metadata": {},
   "outputs": [
    {
     "name": "stdout",
     "output_type": "stream",
     "text": [
      "The cat played with the snake\n"
     ]
    }
   ],
   "source": [
    "print(\"The {c} played with the {s}\".format(c='cat', s='snake'))"
   ]
  },
  {
   "cell_type": "code",
   "execution_count": 36,
   "id": "40221842",
   "metadata": {},
   "outputs": [
    {
     "name": "stdout",
     "output_type": "stream",
     "text": [
      "The cat played with the cat\n"
     ]
    }
   ],
   "source": [
    "print(\"The {c} played with the {c}\".format(c='cat', s='snake'))"
   ]
  },
  {
   "cell_type": "markdown",
   "id": "813fd16a",
   "metadata": {},
   "source": [
    "#### Float formatting with .format()"
   ]
  },
  {
   "cell_type": "code",
   "execution_count": 37,
   "id": "35131538",
   "metadata": {},
   "outputs": [],
   "source": [
    "result = 100/899"
   ]
  },
  {
   "cell_type": "code",
   "execution_count": 38,
   "id": "5b2fccc5",
   "metadata": {},
   "outputs": [
    {
     "data": {
      "text/plain": [
       "0.11123470522803114"
      ]
     },
     "execution_count": 38,
     "metadata": {},
     "output_type": "execute_result"
    }
   ],
   "source": [
    "result"
   ]
  },
  {
   "cell_type": "code",
   "execution_count": 42,
   "id": "627a23f6",
   "metadata": {},
   "outputs": [
    {
     "name": "stdout",
     "output_type": "stream",
     "text": [
      "Result: 0.11123\n",
      "Result:    0.11123\n"
     ]
    }
   ],
   "source": [
    "print(\"Result: {r:1.5f}\".format(r=result))\n",
    "print(\"Result: {r:10.5f}\".format(r=result))"
   ]
  },
  {
   "cell_type": "code",
   "execution_count": 44,
   "id": "101068a6",
   "metadata": {},
   "outputs": [
    {
     "name": "stdout",
     "output_type": "stream",
     "text": [
      "Result: 1000.00000\n",
      "Result:           1000.00000\n"
     ]
    }
   ],
   "source": [
    "result2 = 999.9999991\n",
    "print(\"Result: {r:1.5f}\".format(r=result2))\n",
    "print(\"Result: {r:20.5f}\".format(r=result2))"
   ]
  },
  {
   "cell_type": "code",
   "execution_count": 46,
   "id": "a342bef5",
   "metadata": {},
   "outputs": [
    {
     "name": "stdout",
     "output_type": "stream",
     "text": [
      "Name is Kitty\n",
      "Kitty is 18 years old\n"
     ]
    }
   ],
   "source": [
    "name=\"Kitty\"\n",
    "print(f'Name is {name}')\n",
    "\n",
    "age=18\n",
    "print(f'{name} is {age} years old')"
   ]
  },
  {
   "cell_type": "code",
   "execution_count": null,
   "id": "4d1235c5",
   "metadata": {},
   "outputs": [],
   "source": []
  }
 ],
 "metadata": {
  "kernelspec": {
   "display_name": "Python 3 (ipykernel)",
   "language": "python",
   "name": "python3"
  },
  "language_info": {
   "codemirror_mode": {
    "name": "ipython",
    "version": 3
   },
   "file_extension": ".py",
   "mimetype": "text/x-python",
   "name": "python",
   "nbconvert_exporter": "python",
   "pygments_lexer": "ipython3",
   "version": "3.10.0"
  }
 },
 "nbformat": 4,
 "nbformat_minor": 5
}
